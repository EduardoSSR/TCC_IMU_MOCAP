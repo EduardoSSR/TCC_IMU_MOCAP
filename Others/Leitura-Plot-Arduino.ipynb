{
 "cells": [
  {
   "cell_type": "code",
   "execution_count": 3,
   "metadata": {},
   "outputs": [
    {
     "ename": "ModuleNotFoundError",
     "evalue": "No module named 'serial'",
     "output_type": "error",
     "traceback": [
      "\u001b[0;31m---------------------------------------------------------------------------\u001b[0m",
      "\u001b[0;31mModuleNotFoundError\u001b[0m                       Traceback (most recent call last)",
      "\u001b[0;32m<ipython-input-3-97b466a2c726>\u001b[0m in \u001b[0;36m<module>\u001b[0;34m()\u001b[0m\n\u001b[1;32m      7\u001b[0m \"\"\"\n\u001b[1;32m      8\u001b[0m \u001b[0;34m\u001b[0m\u001b[0m\n\u001b[0;32m----> 9\u001b[0;31m \u001b[0;32mimport\u001b[0m  \u001b[0mserial\u001b[0m \u001b[0;31m# carrega a biblioteca Serial para\u001b[0m\u001b[0;34m\u001b[0m\u001b[0m\n\u001b[0m\u001b[1;32m     10\u001b[0m                \u001b[0;31m# comunicações série\u001b[0m\u001b[0;34m\u001b[0m\u001b[0;34m\u001b[0m\u001b[0m\n\u001b[1;32m     11\u001b[0m \u001b[0;32mimport\u001b[0m \u001b[0mnumpy\u001b[0m \u001b[0;32mas\u001b[0m \u001b[0mnp\u001b[0m\u001b[0;31m# carrega a biblioteca numpy\u001b[0m\u001b[0;34m\u001b[0m\u001b[0m\n",
      "\u001b[0;31mModuleNotFoundError\u001b[0m: No module named 'serial'"
     ]
    }
   ],
   "source": [
    "#!/usr/bin/env python3\n",
    "# -*- coding: utf-8 -*-\n",
    "\"\"\"\n",
    "Created on Wed Apr 18 10:32:24 2018\n",
    "\n",
    "@author: eduardo-ssr\n",
    "\"\"\"\n",
    "\n",
    "import  pyserial as serial # carrega a biblioteca Serial para\n",
    "               # comunicações série\n",
    "import numpy as np# carrega a biblioteca numpy\n",
    "\n",
    "import matplotlib.pyplot as plt #carrega a\n",
    "                                #biblioteca pyplot\n",
    "import matplotlib.gridspec as gridspec #carrega a\n",
    "                                       # biblioteca gridspec\n",
    "from drawnow import drawnow #carrega a biblioteca\n",
    "                      # drawnow\n",
    "#from array import array #carrega a biblioteca\n",
    "                        # array\n",
    "#instanciação dos objetos\n",
    "#dados obtidos através do MPU6050\n",
    "AcX = np.array('f')\n",
    "#AcY = np.array('f')\n",
    "#AcZ = np.array('f')\n",
    "#Tmp = np.array('f')\n",
    "#GyX = np.array('f')\n",
    "#GyY = np.array('f')\n",
    "#GyZ = np.array('f')\n",
    "\n",
    "#comunicacao\n",
    "arduinoData = serial.Serial('/dev/ttyUSB0', 9600) #Cria um objecto do tipo serial chamado arduinoData\n",
    "plt.ion()\n",
    "cnt=0\n",
    "\n",
    "def makeFig():\n",
    " gs = gridspec.GridSpec(3, 3) #gridspec 3x3\n",
    " #Plot 1\n",
    " plt.subplot(gs[0, :])#posicao do subplot\n",
    " plt.ylim([-20000,20000])#valor min e max de y\n",
    " plt.title('Variação do Acelerômetro eixo x')#titulo\n",
    " plt.grid(True)\n",
    " plt.ylabel('Acx')#etiquetas do eixo y\n",
    " #plt.plot(tempF, 'ro-', label='temperatura em graus') #plot de temperature\n",
    " plt.plot(AcX, 'ro-', label='variação Acx') #plot de temperature\n",
    " plt.legend(loc='upper left')#plot da legenda\n",
    "\n",
    " \n",
    " #mainProgram\n",
    "while True:\n",
    "  while (arduinoData.inWaiting()==0):\n",
    "    pass\n",
    "  arduinoString = arduinoData.readline()\n",
    " \n",
    "  splitedArray = [float(s) for s in\n",
    "  arduinoString.split(',')]\n",
    "    \n",
    "  acelx = splitedArray[0]\n",
    "  AcX.append(acelx)\n",
    "  \n",
    "  drawnow(makeFig)\n",
    "  plt.pause(.000005)\n",
    "  cnt=cnt+1\n",
    "  if(cnt>50):\n",
    "    AcX.pop(0)\n",
    "    "
   ]
  },
  {
   "cell_type": "code",
   "execution_count": null,
   "metadata": {},
   "outputs": [],
   "source": []
  }
 ],
 "metadata": {
  "kernelspec": {
   "display_name": "Python 3",
   "language": "python",
   "name": "python3"
  },
  "language_info": {
   "codemirror_mode": {
    "name": "ipython",
    "version": 3
   },
   "file_extension": ".py",
   "mimetype": "text/x-python",
   "name": "python",
   "nbconvert_exporter": "python",
   "pygments_lexer": "ipython3",
   "version": "3.6.4"
  }
 },
 "nbformat": 4,
 "nbformat_minor": 2
}
